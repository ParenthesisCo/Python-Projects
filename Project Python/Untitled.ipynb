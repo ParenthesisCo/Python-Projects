{
 "cells": [
  {
   "cell_type": "code",
   "execution_count": 4,
   "id": "db480071-d144-44a8-bd2e-dcd68126dc58",
   "metadata": {},
   "outputs": [
    {
     "ename": "Terminator",
     "evalue": "",
     "output_type": "error",
     "traceback": [
      "\u001b[1;31m---------------------------------------------------------------------------\u001b[0m",
      "\u001b[1;31mTerminator\u001b[0m                                Traceback (most recent call last)",
      "Cell \u001b[1;32mIn[4], line 11\u001b[0m\n\u001b[0;32m      9\u001b[0m \u001b[38;5;28;01mfor\u001b[39;00m i \u001b[38;5;129;01min\u001b[39;00m \u001b[38;5;28mrange\u001b[39m(\u001b[38;5;241m2000\u001b[39m):\n\u001b[0;32m     10\u001b[0m     t\u001b[38;5;241m.\u001b[39mforward(math\u001b[38;5;241m.\u001b[39msqrt(i))\n\u001b[1;32m---> 11\u001b[0m     t\u001b[38;5;241m.\u001b[39mleft(i \u001b[38;5;241m%\u001b[39m \u001b[38;5;241m180\u001b[39m)\n\u001b[0;32m     12\u001b[0m t\u001b[38;5;241m.\u001b[39mend_fill()\n\u001b[0;32m     14\u001b[0m turtle\u001b[38;5;241m.\u001b[39mdone()\n",
      "File \u001b[1;32mC:\\ProgramData\\anaconda3\\Lib\\turtle.py:1698\u001b[0m, in \u001b[0;36mTNavigator.left\u001b[1;34m(self, angle)\u001b[0m\n\u001b[0;32m   1679\u001b[0m \u001b[38;5;28;01mdef\u001b[39;00m \u001b[38;5;21mleft\u001b[39m(\u001b[38;5;28mself\u001b[39m, angle):\n\u001b[0;32m   1680\u001b[0m \u001b[38;5;250m    \u001b[39m\u001b[38;5;124;03m\"\"\"Turn turtle left by angle units.\u001b[39;00m\n\u001b[0;32m   1681\u001b[0m \n\u001b[0;32m   1682\u001b[0m \u001b[38;5;124;03m    Aliases: left | lt\u001b[39;00m\n\u001b[1;32m   (...)\u001b[0m\n\u001b[0;32m   1696\u001b[0m \u001b[38;5;124;03m    67.0\u001b[39;00m\n\u001b[0;32m   1697\u001b[0m \u001b[38;5;124;03m    \"\"\"\u001b[39;00m\n\u001b[1;32m-> 1698\u001b[0m     \u001b[38;5;28mself\u001b[39m\u001b[38;5;241m.\u001b[39m_rotate(angle)\n",
      "File \u001b[1;32mC:\\ProgramData\\anaconda3\\Lib\\turtle.py:3348\u001b[0m, in \u001b[0;36mRawTurtle._rotate\u001b[1;34m(self, angle)\u001b[0m\n\u001b[0;32m   3346\u001b[0m     \u001b[38;5;28;01mfor\u001b[39;00m _ \u001b[38;5;129;01min\u001b[39;00m \u001b[38;5;28mrange\u001b[39m(steps):\n\u001b[0;32m   3347\u001b[0m         \u001b[38;5;28mself\u001b[39m\u001b[38;5;241m.\u001b[39m_orient \u001b[38;5;241m=\u001b[39m \u001b[38;5;28mself\u001b[39m\u001b[38;5;241m.\u001b[39m_orient\u001b[38;5;241m.\u001b[39mrotate(delta)\n\u001b[1;32m-> 3348\u001b[0m         \u001b[38;5;28mself\u001b[39m\u001b[38;5;241m.\u001b[39m_update()\n\u001b[0;32m   3349\u001b[0m \u001b[38;5;28mself\u001b[39m\u001b[38;5;241m.\u001b[39m_orient \u001b[38;5;241m=\u001b[39m neworient\n\u001b[0;32m   3350\u001b[0m \u001b[38;5;28mself\u001b[39m\u001b[38;5;241m.\u001b[39m_update()\n",
      "File \u001b[1;32mC:\\ProgramData\\anaconda3\\Lib\\turtle.py:2668\u001b[0m, in \u001b[0;36mRawTurtle._update\u001b[1;34m(self)\u001b[0m\n\u001b[0;32m   2666\u001b[0m     \u001b[38;5;28;01mreturn\u001b[39;00m\n\u001b[0;32m   2667\u001b[0m \u001b[38;5;28;01melif\u001b[39;00m screen\u001b[38;5;241m.\u001b[39m_tracing \u001b[38;5;241m==\u001b[39m \u001b[38;5;241m1\u001b[39m:\n\u001b[1;32m-> 2668\u001b[0m     \u001b[38;5;28mself\u001b[39m\u001b[38;5;241m.\u001b[39m_update_data()\n\u001b[0;32m   2669\u001b[0m     \u001b[38;5;28mself\u001b[39m\u001b[38;5;241m.\u001b[39m_drawturtle()\n\u001b[0;32m   2670\u001b[0m     screen\u001b[38;5;241m.\u001b[39m_update()                  \u001b[38;5;66;03m# TurtleScreenBase\u001b[39;00m\n",
      "File \u001b[1;32mC:\\ProgramData\\anaconda3\\Lib\\turtle.py:2654\u001b[0m, in \u001b[0;36mRawTurtle._update_data\u001b[1;34m(self)\u001b[0m\n\u001b[0;32m   2653\u001b[0m \u001b[38;5;28;01mdef\u001b[39;00m \u001b[38;5;21m_update_data\u001b[39m(\u001b[38;5;28mself\u001b[39m):\n\u001b[1;32m-> 2654\u001b[0m     \u001b[38;5;28mself\u001b[39m\u001b[38;5;241m.\u001b[39mscreen\u001b[38;5;241m.\u001b[39m_incrementudc()\n\u001b[0;32m   2655\u001b[0m     \u001b[38;5;28;01mif\u001b[39;00m \u001b[38;5;28mself\u001b[39m\u001b[38;5;241m.\u001b[39mscreen\u001b[38;5;241m.\u001b[39m_updatecounter \u001b[38;5;241m!=\u001b[39m \u001b[38;5;241m0\u001b[39m:\n\u001b[0;32m   2656\u001b[0m         \u001b[38;5;28;01mreturn\u001b[39;00m\n",
      "File \u001b[1;32mC:\\ProgramData\\anaconda3\\Lib\\turtle.py:1284\u001b[0m, in \u001b[0;36mTurtleScreen._incrementudc\u001b[1;34m(self)\u001b[0m\n\u001b[0;32m   1282\u001b[0m \u001b[38;5;28;01mif\u001b[39;00m \u001b[38;5;129;01mnot\u001b[39;00m TurtleScreen\u001b[38;5;241m.\u001b[39m_RUNNING:\n\u001b[0;32m   1283\u001b[0m     TurtleScreen\u001b[38;5;241m.\u001b[39m_RUNNING \u001b[38;5;241m=\u001b[39m \u001b[38;5;28;01mTrue\u001b[39;00m\n\u001b[1;32m-> 1284\u001b[0m     \u001b[38;5;28;01mraise\u001b[39;00m Terminator\n\u001b[0;32m   1285\u001b[0m \u001b[38;5;28;01mif\u001b[39;00m \u001b[38;5;28mself\u001b[39m\u001b[38;5;241m.\u001b[39m_tracing \u001b[38;5;241m>\u001b[39m \u001b[38;5;241m0\u001b[39m:\n\u001b[0;32m   1286\u001b[0m     \u001b[38;5;28mself\u001b[39m\u001b[38;5;241m.\u001b[39m_updatecounter \u001b[38;5;241m+\u001b[39m\u001b[38;5;241m=\u001b[39m \u001b[38;5;241m1\u001b[39m\n",
      "\u001b[1;31mTerminator\u001b[0m: "
     ]
    }
   ],
   "source": [
    "import turtle\n",
    "import math\n",
    "\n",
    "t = turtle.Turtle()\n",
    "t.color(\"green\",\"yellow\")\n",
    "t.speed(10)\n",
    "\n",
    "t.begin_fill()\n",
    "for i in range(2000):\n",
    "    t.forward(math.sqrt(i))\n",
    "    t.left(i % 180)\n",
    "t.end_fill()\n",
    "\n",
    "turtle.done()"
   ]
  },
  {
   "cell_type": "code",
   "execution_count": null,
   "id": "fee6f141-10c7-4f20-b426-5690a2898f46",
   "metadata": {},
   "outputs": [],
   "source": []
  }
 ],
 "metadata": {
  "kernelspec": {
   "display_name": "Python 3 (ipykernel)",
   "language": "python",
   "name": "python3"
  },
  "language_info": {
   "codemirror_mode": {
    "name": "ipython",
    "version": 3
   },
   "file_extension": ".py",
   "mimetype": "text/x-python",
   "name": "python",
   "nbconvert_exporter": "python",
   "pygments_lexer": "ipython3",
   "version": "3.12.7"
  }
 },
 "nbformat": 4,
 "nbformat_minor": 5
}
